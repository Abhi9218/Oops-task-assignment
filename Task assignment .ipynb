{
 "cells": [
  {
   "cell_type": "code",
   "execution_count": null,
   "id": "9fe22385-4129-43d5-831d-494219e923a5",
   "metadata": {},
   "outputs": [],
   "source": [
    "OOPS "
   ]
  },
  {
   "cell_type": "markdown",
   "id": "8b2c928c-2be4-410a-a663-be93e2f9dce8",
   "metadata": {},
   "source": [
    "### Q1, Create a vehicle class with an init method having instance variables as name_of_vehicle, max_speed and average_of_vehicle."
   ]
  },
  {
   "cell_type": "code",
   "execution_count": 48,
   "id": "9e6983aa-a635-4390-ac4e-48c108ac3d3f",
   "metadata": {},
   "outputs": [],
   "source": [
    "class vehicle:\n",
    "    \n",
    "    def __init__(self,name_of_vehicle,max_speed,average_of_vehicle):\n",
    "        self.name_of_vehicle=name_of_vehicle\n",
    "        self.max_speed=max_speed\n",
    "        self.average_of_vehicle=average_of_vehicle\n",
    "        \n",
    "    def vehicle_details(self):\n",
    "        return self.name_of_vehicle,self.max_speed,self.average_of_vehicle"
   ]
  },
  {
   "cell_type": "code",
   "execution_count": 49,
   "id": "cd6fa214-1400-47b4-a5a2-8dc546866764",
   "metadata": {},
   "outputs": [],
   "source": [
    "Abhi=vehicle(\"honda\",299,213)"
   ]
  },
  {
   "cell_type": "code",
   "execution_count": 51,
   "id": "4c862f01-2e6a-42e7-a84f-fe5e00dcc24c",
   "metadata": {},
   "outputs": [
    {
     "data": {
      "text/plain": [
       "('honda', 299, 213)"
      ]
     },
     "execution_count": 51,
     "metadata": {},
     "output_type": "execute_result"
    }
   ],
   "source": [
    "Abhi.vehicle_details()"
   ]
  },
  {
   "cell_type": "code",
   "execution_count": 52,
   "id": "246fb449-5f2b-4f20-98d4-e7a9f48c3b49",
   "metadata": {},
   "outputs": [
    {
     "data": {
      "text/plain": [
       "213"
      ]
     },
     "execution_count": 52,
     "metadata": {},
     "output_type": "execute_result"
    }
   ],
   "source": [
    "Abhi.average_of_vehicle"
   ]
  },
  {
   "cell_type": "markdown",
   "id": "d82b4389-029b-4f8b-a556-8ec5a8c4881a",
   "metadata": {},
   "source": [
    "### Q2. Create a child class car from the vehicle class created in Que 1, which will inherit the vehicle class. Create a method named seating_capacity which takes capacity as an argument and returns the name of the vehicle and its seating capacity."
   ]
  },
  {
   "cell_type": "code",
   "execution_count": 14,
   "id": "76014a0f-47ac-476c-baac-25babe7a240a",
   "metadata": {},
   "outputs": [],
   "source": [
    "class child_vehicle(vehicle):\n",
    "    def seating_capacety(self,capacety):\n",
    "        return f\"the seating capacety {self.name_of_vehicle} is {capacety}\"\n"
   ]
  },
  {
   "cell_type": "code",
   "execution_count": 19,
   "id": "2ab04fe0-e2b3-4442-96e6-19d0b6174ffe",
   "metadata": {},
   "outputs": [],
   "source": [
    "Abhi=child_vehicle(\"honda\",299,222)"
   ]
  },
  {
   "cell_type": "code",
   "execution_count": 20,
   "id": "c419fe76-2a3c-42fd-8ce2-b3008ed91802",
   "metadata": {},
   "outputs": [
    {
     "data": {
      "text/plain": [
       "'the seating capacety honda is 2'"
      ]
     },
     "execution_count": 20,
     "metadata": {},
     "output_type": "execute_result"
    }
   ],
   "source": [
    "Abhi.seating_capacety(2)"
   ]
  },
  {
   "cell_type": "markdown",
   "id": "84d089a9-0f59-4ce5-b7f3-613d12ab0192",
   "metadata": {},
   "source": [
    "### Q3. What is multiple inheritance? Write a python code to demonstrate multiple inheritance."
   ]
  },
  {
   "cell_type": "markdown",
   "id": "07362c40-7cd5-4aec-99fd-5386a9c0fa42",
   "metadata": {},
   "source": [
    "##### Multiple inheritance= In multiple inheritance we can inherite the parent property like a baby inherit character from our parents, These are the example---"
   ]
  },
  {
   "cell_type": "markdown",
   "id": "942775ff-f2e9-4fb1-9c03-6b6fe64b7e54",
   "metadata": {},
   "source": [
    "#### First type example-- "
   ]
  },
  {
   "cell_type": "code",
   "execution_count": 1,
   "id": "67ffb2d2-0e7a-4f69-8a9a-10293c56feab",
   "metadata": {},
   "outputs": [],
   "source": [
    "class class1:\n",
    "    def student_of_pw(self):\n",
    "        print(\"you are student of pw \")"
   ]
  },
  {
   "cell_type": "code",
   "execution_count": 2,
   "id": "86a9ae0d-e303-46e2-911b-8f0f234ecd6b",
   "metadata": {},
   "outputs": [],
   "source": [
    "class class2:\n",
    "    def student_of_allen(self):\n",
    "        print(\"you are student of allen\")\n",
    "        "
   ]
  },
  {
   "cell_type": "code",
   "execution_count": 3,
   "id": "3b41e074-ab8a-4a6a-8116-64ecd3c3a1d4",
   "metadata": {},
   "outputs": [],
   "source": [
    "class class3(class1,class2):\n",
    "    pass"
   ]
  },
  {
   "cell_type": "code",
   "execution_count": 5,
   "id": "09cd67f9-4d62-4aa7-9b4a-b0a3edc75716",
   "metadata": {},
   "outputs": [],
   "source": [
    "Abhi=class3()"
   ]
  },
  {
   "cell_type": "code",
   "execution_count": 6,
   "id": "a033e70b-9409-4d54-bc7a-851809f155ec",
   "metadata": {},
   "outputs": [
    {
     "name": "stdout",
     "output_type": "stream",
     "text": [
      "you are student of allen\n"
     ]
    }
   ],
   "source": [
    "Abhi.student_of_allen()"
   ]
  },
  {
   "cell_type": "code",
   "execution_count": 7,
   "id": "769de483-b42d-4587-bb49-c736daafed05",
   "metadata": {},
   "outputs": [
    {
     "name": "stdout",
     "output_type": "stream",
     "text": [
      "you are student of pw \n"
     ]
    }
   ],
   "source": [
    "Abhi.student_of_pw()"
   ]
  },
  {
   "cell_type": "markdown",
   "id": "e44d11b8-0ba0-4004-8538-9329c69b5079",
   "metadata": {},
   "source": [
    "#### Second type example--"
   ]
  },
  {
   "cell_type": "code",
   "execution_count": 1,
   "id": "2627ee36-e497-4088-a221-6f30220f4844",
   "metadata": {},
   "outputs": [],
   "source": [
    "class class1:\n",
    "    def exam1(self):\n",
    "        print(\"You all are qualified\")"
   ]
  },
  {
   "cell_type": "code",
   "execution_count": 2,
   "id": "398535a9-229e-4e6e-b2fa-c6436ddf7178",
   "metadata": {},
   "outputs": [],
   "source": [
    "class class2(class1):\n",
    "    def exam2(self):\n",
    "        print(\"you all are qualified so you all are seating in exam3\")"
   ]
  },
  {
   "cell_type": "code",
   "execution_count": 5,
   "id": "c6d87da0-1507-4898-8c3b-cbf6a28e509b",
   "metadata": {},
   "outputs": [],
   "source": [
    "class class3(class2):\n",
    "    def exam3(self):\n",
    "        print(\"you all are also qualified so you alla re seating in next exam\")"
   ]
  },
  {
   "cell_type": "code",
   "execution_count": 6,
   "id": "bb2ae274-01f5-4492-9e3a-79189201150a",
   "metadata": {},
   "outputs": [],
   "source": [
    "class class4(class3):\n",
    "    pass"
   ]
  },
  {
   "cell_type": "code",
   "execution_count": 7,
   "id": "03572096-c2fe-41d8-a170-e47af08f552f",
   "metadata": {},
   "outputs": [],
   "source": [
    "Amit=class4()"
   ]
  },
  {
   "cell_type": "code",
   "execution_count": 8,
   "id": "b385dd52-2a0e-4cc2-a3e1-1a727dac733a",
   "metadata": {},
   "outputs": [
    {
     "name": "stdout",
     "output_type": "stream",
     "text": [
      "You all are qualified\n"
     ]
    }
   ],
   "source": [
    "Amit.exam1()\n"
   ]
  },
  {
   "cell_type": "code",
   "execution_count": 9,
   "id": "f24ff729-a815-47fa-af48-1cf685711e43",
   "metadata": {},
   "outputs": [
    {
     "name": "stdout",
     "output_type": "stream",
     "text": [
      "you all are qualified so you all are seating in exam3\n"
     ]
    }
   ],
   "source": [
    "Amit.exam2()"
   ]
  },
  {
   "cell_type": "markdown",
   "id": "65b5e44c-081b-4fd2-bbb6-4629a7dbe5c3",
   "metadata": {},
   "source": [
    "### Q4. What are getter and setter in python? Create a class and create a getter and a setter method in this class."
   ]
  },
  {
   "cell_type": "markdown",
   "id": "427593f5-627b-42be-a357-a421d5d819c2",
   "metadata": {},
   "source": [
    "#### Getter: A method that allows you to access an attribute in a given class\n",
    "#### Setter: A method that allows you to set or mutate the value of an attribute in a class\n"
   ]
  },
  {
   "cell_type": "code",
   "execution_count": 14,
   "id": "6db3390b-79d3-4c49-89fa-6b7dd70f0887",
   "metadata": {},
   "outputs": [],
   "source": [
    "class pwskills:\n",
    "    \n",
    "    def __init__(self,price_of_course,course_name):\n",
    "        self.__price_of_course=price_of_course\n",
    "        self.__course_name=course_name\n",
    "    \n",
    "    @property    \n",
    "    def course_price_access(self) :\n",
    "        return self.__price_of_course\n",
    "    \n",
    "    @course_price_access.setter\n",
    "    def course_price_set(self,price):\n",
    "        if price <=3500:\n",
    "            pass\n",
    "        else:\n",
    "            self.__price_of_course=price\n",
    "            \n",
    "    @course_price_access.getter\n",
    "    def course_name(self):\n",
    "        return self.__course_name\n",
    "        "
   ]
  },
  {
   "cell_type": "code",
   "execution_count": 15,
   "id": "d7890ee4-fb47-40ae-8fd1-f381724e9655",
   "metadata": {},
   "outputs": [],
   "source": [
    "Abhi=pwskills(3500,\"data science master\")"
   ]
  },
  {
   "cell_type": "code",
   "execution_count": 18,
   "id": "d7fe8162-6a5f-4155-ae9a-89f657f30b7a",
   "metadata": {},
   "outputs": [],
   "source": [
    "Abhi.course_price_set=3600"
   ]
  },
  {
   "cell_type": "code",
   "execution_count": 20,
   "id": "e7c1ba78-a439-42c2-be36-0dea72c9d5fd",
   "metadata": {},
   "outputs": [
    {
     "data": {
      "text/plain": [
       "'data science master'"
      ]
     },
     "execution_count": 20,
     "metadata": {},
     "output_type": "execute_result"
    }
   ],
   "source": [
    "Abhi.course_name"
   ]
  },
  {
   "cell_type": "code",
   "execution_count": 22,
   "id": "c6e43666-687a-4072-bec8-4fc41fb9ef85",
   "metadata": {},
   "outputs": [
    {
     "data": {
      "text/plain": [
       "3600"
      ]
     },
     "execution_count": 22,
     "metadata": {},
     "output_type": "execute_result"
    }
   ],
   "source": [
    "Abhi.course_price_access"
   ]
  },
  {
   "cell_type": "code",
   "execution_count": 23,
   "id": "406469e5-0059-454c-b5a6-8ce7b6e4e2ad",
   "metadata": {},
   "outputs": [],
   "source": [
    "Abhi.course_price_set=4500"
   ]
  },
  {
   "cell_type": "code",
   "execution_count": 24,
   "id": "31f0768b-7bf3-41ac-b862-deec02a91259",
   "metadata": {},
   "outputs": [
    {
     "data": {
      "text/plain": [
       "4500"
      ]
     },
     "execution_count": 24,
     "metadata": {},
     "output_type": "execute_result"
    }
   ],
   "source": [
    "Abhi.course_price_access"
   ]
  },
  {
   "cell_type": "markdown",
   "id": "51bcbbea-82ab-4eb1-830c-92b1819c30aa",
   "metadata": {},
   "source": [
    "### Q5.What is method overriding in python? Write a python code to demonstrate method overriding."
   ]
  },
  {
   "cell_type": "markdown",
   "id": "66c924e1-72d5-470b-82e4-b673ab614961",
   "metadata": {},
   "source": [
    "Answer= This process of calling the same method in different ways is called method overloading. It is one of the important concepts in OOP. Two methods cannot have the same name in Python; hence method overloading is a feature that allows the same operator to have different meanings."
   ]
  },
  {
   "cell_type": "code",
   "execution_count": 25,
   "id": "63d30ddd-9cf4-4660-a1fb-96fb24e9e0f4",
   "metadata": {},
   "outputs": [],
   "source": [
    "class pwskills:\n",
    "    def price_of_course(self):\n",
    "        print (\"price of course is 3500\")\n",
    "        \n",
    "class Allen:\n",
    "    def price_of_course(self):\n",
    "        print(\"price of course is 4500\")"
   ]
  },
  {
   "cell_type": "code",
   "execution_count": 34,
   "id": "a9fcc3a2-2190-4743-95ab-7d3473eb75e5",
   "metadata": {},
   "outputs": [],
   "source": [
    "Abhi=pwskills()"
   ]
  },
  {
   "cell_type": "code",
   "execution_count": 35,
   "id": "f8259939-7090-4ecb-951f-e16a7618115d",
   "metadata": {},
   "outputs": [
    {
     "name": "stdout",
     "output_type": "stream",
     "text": [
      "price of course is 3500\n"
     ]
    }
   ],
   "source": [
    "Abhi.price_of_course()"
   ]
  },
  {
   "cell_type": "code",
   "execution_count": 36,
   "id": "ee8b2f97-3cbe-442f-a83c-de89fba0a023",
   "metadata": {},
   "outputs": [],
   "source": [
    "Akhil=Allen()"
   ]
  },
  {
   "cell_type": "code",
   "execution_count": 38,
   "id": "939c3475-6713-4154-91b9-b427048965ca",
   "metadata": {},
   "outputs": [
    {
     "name": "stdout",
     "output_type": "stream",
     "text": [
      "price of course is 4500\n"
     ]
    }
   ],
   "source": [
    "Akhil.price_of_course()"
   ]
  },
  {
   "cell_type": "code",
   "execution_count": null,
   "id": "e2a07abe-acaa-49e0-a4ee-4fa9fd8cb388",
   "metadata": {},
   "outputs": [],
   "source": []
  },
  {
   "cell_type": "code",
   "execution_count": null,
   "id": "073cb5b5-65fa-4401-9ac7-ea357c183d1f",
   "metadata": {},
   "outputs": [],
   "source": []
  }
 ],
 "metadata": {
  "kernelspec": {
   "display_name": "Python 3 (ipykernel)",
   "language": "python",
   "name": "python3"
  },
  "language_info": {
   "codemirror_mode": {
    "name": "ipython",
    "version": 3
   },
   "file_extension": ".py",
   "mimetype": "text/x-python",
   "name": "python",
   "nbconvert_exporter": "python",
   "pygments_lexer": "ipython3",
   "version": "3.10.8"
  }
 },
 "nbformat": 4,
 "nbformat_minor": 5
}
